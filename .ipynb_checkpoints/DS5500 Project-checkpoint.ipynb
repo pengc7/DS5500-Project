{
 "cells": [
  {
   "cell_type": "code",
   "execution_count": 2,
   "id": "8920240a",
   "metadata": {
    "scrolled": true
   },
   "outputs": [
    {
     "name": "stdout",
     "output_type": "stream",
     "text": [
      "Defaulting to user installation because normal site-packages is not writeable\n",
      "Requirement already satisfied: pubchempy in ./Library/Python/3.8/lib/python/site-packages (1.0.4)\n",
      "Note: you may need to restart the kernel to use updated packages.\n"
     ]
    }
   ],
   "source": [
    "pip install pubchempy"
   ]
  },
  {
   "cell_type": "code",
   "execution_count": 77,
   "id": "e422b49b",
   "metadata": {},
   "outputs": [],
   "source": [
    "import pubchempy as pcp\n",
    "import pickle\n",
    "import pandas as pd\n",
    "import numpy as np"
   ]
  },
  {
   "cell_type": "code",
   "execution_count": 88,
   "id": "f654c0dc",
   "metadata": {},
   "outputs": [],
   "source": [
    "#HSDN disease-symptom association\n",
    "disease_symptom = pd.read_csv('/Users/pengc/Documents/DS5500/dataset/disease-symptom.csv')\n",
    "disease = disease_symptom['MeSH Disease Term'].unique()"
   ]
  },
  {
   "cell_type": "code",
   "execution_count": null,
   "id": "36cf8807",
   "metadata": {},
   "outputs": [],
   "source": [
    "#CTD drug-disease association preprocessing\n",
    "df = pd.read_csv('/Users/pengc/Documents/DS5500/dataset/CTD_chemicals_diseases.csv', skiprows=27, usecols = ['# ChemicalName','ChemicalID','DiseaseName','DiseaseID','DirectEvidence'])\n",
    "df.rename(columns = {'# ChemicalName':'ChemicalName'}, inplace = True)\n",
    "df = df[df['DirectEvidence']=='therapeutic']\n",
    "df = df[~df['ChemicalName'].str.contains('drug combination')]\n",
    "df = df.dropna(subset=['ChemicalName','ChemicalID','DiseaseName','DiseaseID'])\n",
    "df = df[df['DiseaseName'].isin(disease)]#match with HSDN\n",
    "#print(len(df))\n",
    "df.head()"
   ]
  },
  {
   "cell_type": "code",
   "execution_count": null,
   "id": "3de43bbc",
   "metadata": {},
   "outputs": [],
   "source": [
    "chemName = df['ChemicalName'].unique()\n",
    "DiseaseName = df['DiseaseName'].unique()\n",
    "#len(chemName), len(DiseaseName)"
   ]
  },
  {
   "cell_type": "code",
   "execution_count": null,
   "id": "9df68329",
   "metadata": {},
   "outputs": [],
   "source": [
    "chem_compound = {}\n",
    "for i, chem in enumerate(chemName):\n",
    "  res = pcp.get_compounds(chem, 'name')\n",
    "  if len(res)==1:\n",
    "    chem_compound[chem] = res[0]"
   ]
  },
  {
   "cell_type": "code",
   "execution_count": 50,
   "id": "b6bd9777",
   "metadata": {},
   "outputs": [],
   "source": [
    "with open('saved_dictionary.pkl', 'wb') as f:\n",
    "    pickle.dump(chem_compound, f)"
   ]
  },
  {
   "cell_type": "code",
   "execution_count": 51,
   "id": "68087c9b",
   "metadata": {},
   "outputs": [],
   "source": [
    "with open('saved_dictionary.pkl', 'rb') as f:\n",
    "        drug_cid = pickle.load(f)"
   ]
  },
  {
   "cell_type": "code",
   "execution_count": 97,
   "id": "2ce85838",
   "metadata": {},
   "outputs": [],
   "source": [
    "#reference: https://github.com/mcs07/PubChemPy/blob/master/examples/Chemical%20fingerprints%20and%20similarity.ipynb\n",
    "def tanimoto(compound1, compound2):\n",
    "    fp1 = int(compound1.fingerprint, 16)\n",
    "    fp2 = int(compound2.fingerprint, 16)\n",
    "    fp1_count = bin(fp1).count('1')\n",
    "    fp2_count = bin(fp2).count('1')\n",
    "    both_count = bin(fp1 & fp2).count('1')\n",
    "    return float(both_count) / (fp1_count + fp2_count - both_count)"
   ]
  },
  {
   "cell_type": "code",
   "execution_count": 113,
   "id": "93600ace",
   "metadata": {},
   "outputs": [
    {
     "data": {
      "text/plain": [
       "0.4595744680851064"
      ]
     },
     "execution_count": 113,
     "metadata": {},
     "output_type": "execute_result"
    }
   ],
   "source": [
    "compound = list(chem_compound.values())\n",
    "tanimoto(compound[0],compound[1])"
   ]
  },
  {
   "cell_type": "code",
   "execution_count": null,
   "id": "330b4057",
   "metadata": {},
   "outputs": [],
   "source": []
  }
 ],
 "metadata": {
  "kernelspec": {
   "display_name": "Python 3 (ipykernel)",
   "language": "python",
   "name": "python3"
  },
  "language_info": {
   "codemirror_mode": {
    "name": "ipython",
    "version": 3
   },
   "file_extension": ".py",
   "mimetype": "text/x-python",
   "name": "python",
   "nbconvert_exporter": "python",
   "pygments_lexer": "ipython3",
   "version": "3.8.2"
  }
 },
 "nbformat": 4,
 "nbformat_minor": 5
}
