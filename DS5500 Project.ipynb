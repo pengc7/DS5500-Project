{
 "cells": [
  {
   "cell_type": "code",
   "execution_count": 2,
   "id": "8920240a",
   "metadata": {
    "scrolled": true
   },
   "outputs": [
    {
     "name": "stdout",
     "output_type": "stream",
     "text": [
      "Defaulting to user installation because normal site-packages is not writeable\n",
      "Requirement already satisfied: pubchempy in ./Library/Python/3.8/lib/python/site-packages (1.0.4)\n",
      "Note: you may need to restart the kernel to use updated packages.\n"
     ]
    }
   ],
   "source": [
    "pip install pubchempy"
   ]
  },
  {
   "cell_type": "code",
   "execution_count": 77,
   "id": "e422b49b",
   "metadata": {},
   "outputs": [],
   "source": [
    "import pubchempy as pcp\n",
    "import pickle\n",
    "import pandas as pd\n",
    "import numpy as np"
   ]
  },
  {
   "cell_type": "code",
   "execution_count": 88,
   "id": "f654c0dc",
   "metadata": {},
   "outputs": [],
   "source": [
    "#HSDN disease-symptom association\n",
    "disease_symptom = pd.read_csv('/Users/pengc/Documents/DS5500/dataset/disease-symptom.csv')\n",
    "disease = disease_symptom['MeSH Disease Term'].unique()"
   ]
  },
  {
   "cell_type": "code",
   "execution_count": 89,
   "id": "36cf8807",
   "metadata": {},
   "outputs": [
    {
     "name": "stdout",
     "output_type": "stream",
     "text": [
      "33323\n"
     ]
    },
    {
     "data": {
      "text/html": [
       "<div>\n",
       "<style scoped>\n",
       "    .dataframe tbody tr th:only-of-type {\n",
       "        vertical-align: middle;\n",
       "    }\n",
       "\n",
       "    .dataframe tbody tr th {\n",
       "        vertical-align: top;\n",
       "    }\n",
       "\n",
       "    .dataframe thead th {\n",
       "        text-align: right;\n",
       "    }\n",
       "</style>\n",
       "<table border=\"1\" class=\"dataframe\">\n",
       "  <thead>\n",
       "    <tr style=\"text-align: right;\">\n",
       "      <th></th>\n",
       "      <th>ChemicalName</th>\n",
       "      <th>ChemicalID</th>\n",
       "      <th>DiseaseName</th>\n",
       "      <th>DiseaseID</th>\n",
       "      <th>DirectEvidence</th>\n",
       "    </tr>\n",
       "  </thead>\n",
       "  <tbody>\n",
       "    <tr>\n",
       "      <th>1</th>\n",
       "      <td>06-Paris-LA-66 protocol</td>\n",
       "      <td>C046983</td>\n",
       "      <td>Precursor Cell Lymphoblastic Leukemia-Lymphoma</td>\n",
       "      <td>MESH:D054198</td>\n",
       "      <td>therapeutic</td>\n",
       "    </tr>\n",
       "    <tr>\n",
       "      <th>163</th>\n",
       "      <td>10,11-dihydro-10-hydroxycarbamazepine</td>\n",
       "      <td>C039775</td>\n",
       "      <td>Epilepsy</td>\n",
       "      <td>MESH:D004827</td>\n",
       "      <td>therapeutic</td>\n",
       "    </tr>\n",
       "    <tr>\n",
       "      <th>1102</th>\n",
       "      <td>10-hydroxycamptothecin</td>\n",
       "      <td>C028098</td>\n",
       "      <td>Huntington Disease</td>\n",
       "      <td>MESH:D006816</td>\n",
       "      <td>therapeutic</td>\n",
       "    </tr>\n",
       "    <tr>\n",
       "      <th>1114</th>\n",
       "      <td>10-hydroxycamptothecin</td>\n",
       "      <td>C028098</td>\n",
       "      <td>Liver Neoplasms</td>\n",
       "      <td>MESH:D008113</td>\n",
       "      <td>therapeutic</td>\n",
       "    </tr>\n",
       "    <tr>\n",
       "      <th>1365</th>\n",
       "      <td>10-methoxy-2,2-dimethyl-2,6-dihydropyrano(3,2-...</td>\n",
       "      <td>C554291</td>\n",
       "      <td>Leukemia</td>\n",
       "      <td>MESH:D007938</td>\n",
       "      <td>therapeutic</td>\n",
       "    </tr>\n",
       "  </tbody>\n",
       "</table>\n",
       "</div>"
      ],
      "text/plain": [
       "                                           ChemicalName ChemicalID  \\\n",
       "1                               06-Paris-LA-66 protocol    C046983   \n",
       "163               10,11-dihydro-10-hydroxycarbamazepine    C039775   \n",
       "1102                             10-hydroxycamptothecin    C028098   \n",
       "1114                             10-hydroxycamptothecin    C028098   \n",
       "1365  10-methoxy-2,2-dimethyl-2,6-dihydropyrano(3,2-...    C554291   \n",
       "\n",
       "                                         DiseaseName     DiseaseID  \\\n",
       "1     Precursor Cell Lymphoblastic Leukemia-Lymphoma  MESH:D054198   \n",
       "163                                         Epilepsy  MESH:D004827   \n",
       "1102                              Huntington Disease  MESH:D006816   \n",
       "1114                                 Liver Neoplasms  MESH:D008113   \n",
       "1365                                        Leukemia  MESH:D007938   \n",
       "\n",
       "     DirectEvidence  \n",
       "1       therapeutic  \n",
       "163     therapeutic  \n",
       "1102    therapeutic  \n",
       "1114    therapeutic  \n",
       "1365    therapeutic  "
      ]
     },
     "execution_count": 89,
     "metadata": {},
     "output_type": "execute_result"
    }
   ],
   "source": [
    "#CTD drug-disease association preprocessing\n",
    "df = pd.read_csv('/Users/pengc/Documents/DS5500/dataset/CTD_chemicals_diseases.csv', skiprows=27, usecols = ['# ChemicalName','ChemicalID','DiseaseName','DiseaseID','DirectEvidence'])\n",
    "df.rename(columns = {'# ChemicalName':'ChemicalName'}, inplace = True)\n",
    "df = df[df['DirectEvidence']=='therapeutic']\n",
    "df = df[~df['ChemicalName'].str.contains('drug combination')]\n",
    "df = df.dropna(subset=['ChemicalName','ChemicalID','DiseaseName','DiseaseID'])\n",
    "df = df[df['DiseaseName'].isin(disease)]#match with HSDN\n",
    "#print(len(df))\n",
    "df.head()"
   ]
  },
  {
   "cell_type": "code",
   "execution_count": 91,
   "id": "3de43bbc",
   "metadata": {},
   "outputs": [
    {
     "data": {
      "text/plain": [
       "(6473, 2169)"
      ]
     },
     "execution_count": 91,
     "metadata": {},
     "output_type": "execute_result"
    }
   ],
   "source": [
    "chemName = df['ChemicalName'].unique()\n",
    "DiseaseName = df['DiseaseName'].unique()\n",
    "#len(chemName), len(DiseaseName)"
   ]
  },
  {
   "cell_type": "code",
   "execution_count": 101,
   "id": "9df68329",
   "metadata": {},
   "outputs": [
    {
     "ename": "PubChemHTTPError",
     "evalue": "'PUGREST.ServerBusy'",
     "output_type": "error",
     "traceback": [
      "\u001b[0;31m---------------------------------------------------------------------------\u001b[0m",
      "\u001b[0;31mHTTPError\u001b[0m                                 Traceback (most recent call last)",
      "\u001b[0;32m~/Library/Python/3.8/lib/python/site-packages/pubchempy.py\u001b[0m in \u001b[0;36mrequest\u001b[0;34m(identifier, namespace, domain, operation, output, searchtype, **kwargs)\u001b[0m\n\u001b[1;32m    270\u001b[0m         \u001b[0mlog\u001b[0m\u001b[0;34m.\u001b[0m\u001b[0mdebug\u001b[0m\u001b[0;34m(\u001b[0m\u001b[0;34m'Request data: %s'\u001b[0m\u001b[0;34m,\u001b[0m \u001b[0mpostdata\u001b[0m\u001b[0;34m)\u001b[0m\u001b[0;34m\u001b[0m\u001b[0;34m\u001b[0m\u001b[0m\n\u001b[0;32m--> 271\u001b[0;31m         \u001b[0mresponse\u001b[0m \u001b[0;34m=\u001b[0m \u001b[0murlopen\u001b[0m\u001b[0;34m(\u001b[0m\u001b[0mapiurl\u001b[0m\u001b[0;34m,\u001b[0m \u001b[0mpostdata\u001b[0m\u001b[0;34m)\u001b[0m\u001b[0;34m\u001b[0m\u001b[0;34m\u001b[0m\u001b[0m\n\u001b[0m\u001b[1;32m    272\u001b[0m         \u001b[0;32mreturn\u001b[0m \u001b[0mresponse\u001b[0m\u001b[0;34m\u001b[0m\u001b[0;34m\u001b[0m\u001b[0m\n",
      "\u001b[0;32m/Library/Developer/CommandLineTools/Library/Frameworks/Python3.framework/Versions/3.8/lib/python3.8/urllib/request.py\u001b[0m in \u001b[0;36murlopen\u001b[0;34m(url, data, timeout, cafile, capath, cadefault, context)\u001b[0m\n\u001b[1;32m    221\u001b[0m         \u001b[0mopener\u001b[0m \u001b[0;34m=\u001b[0m \u001b[0m_opener\u001b[0m\u001b[0;34m\u001b[0m\u001b[0;34m\u001b[0m\u001b[0m\n\u001b[0;32m--> 222\u001b[0;31m     \u001b[0;32mreturn\u001b[0m \u001b[0mopener\u001b[0m\u001b[0;34m.\u001b[0m\u001b[0mopen\u001b[0m\u001b[0;34m(\u001b[0m\u001b[0murl\u001b[0m\u001b[0;34m,\u001b[0m \u001b[0mdata\u001b[0m\u001b[0;34m,\u001b[0m \u001b[0mtimeout\u001b[0m\u001b[0;34m)\u001b[0m\u001b[0;34m\u001b[0m\u001b[0;34m\u001b[0m\u001b[0m\n\u001b[0m\u001b[1;32m    223\u001b[0m \u001b[0;34m\u001b[0m\u001b[0m\n",
      "\u001b[0;32m/Library/Developer/CommandLineTools/Library/Frameworks/Python3.framework/Versions/3.8/lib/python3.8/urllib/request.py\u001b[0m in \u001b[0;36mopen\u001b[0;34m(self, fullurl, data, timeout)\u001b[0m\n\u001b[1;32m    530\u001b[0m             \u001b[0mmeth\u001b[0m \u001b[0;34m=\u001b[0m \u001b[0mgetattr\u001b[0m\u001b[0;34m(\u001b[0m\u001b[0mprocessor\u001b[0m\u001b[0;34m,\u001b[0m \u001b[0mmeth_name\u001b[0m\u001b[0;34m)\u001b[0m\u001b[0;34m\u001b[0m\u001b[0;34m\u001b[0m\u001b[0m\n\u001b[0;32m--> 531\u001b[0;31m             \u001b[0mresponse\u001b[0m \u001b[0;34m=\u001b[0m \u001b[0mmeth\u001b[0m\u001b[0;34m(\u001b[0m\u001b[0mreq\u001b[0m\u001b[0;34m,\u001b[0m \u001b[0mresponse\u001b[0m\u001b[0;34m)\u001b[0m\u001b[0;34m\u001b[0m\u001b[0;34m\u001b[0m\u001b[0m\n\u001b[0m\u001b[1;32m    532\u001b[0m \u001b[0;34m\u001b[0m\u001b[0m\n",
      "\u001b[0;32m/Library/Developer/CommandLineTools/Library/Frameworks/Python3.framework/Versions/3.8/lib/python3.8/urllib/request.py\u001b[0m in \u001b[0;36mhttp_response\u001b[0;34m(self, request, response)\u001b[0m\n\u001b[1;32m    639\u001b[0m         \u001b[0;32mif\u001b[0m \u001b[0;32mnot\u001b[0m \u001b[0;34m(\u001b[0m\u001b[0;36m200\u001b[0m \u001b[0;34m<=\u001b[0m \u001b[0mcode\u001b[0m \u001b[0;34m<\u001b[0m \u001b[0;36m300\u001b[0m\u001b[0;34m)\u001b[0m\u001b[0;34m:\u001b[0m\u001b[0;34m\u001b[0m\u001b[0;34m\u001b[0m\u001b[0m\n\u001b[0;32m--> 640\u001b[0;31m             response = self.parent.error(\n\u001b[0m\u001b[1;32m    641\u001b[0m                 'http', request, response, code, msg, hdrs)\n",
      "\u001b[0;32m/Library/Developer/CommandLineTools/Library/Frameworks/Python3.framework/Versions/3.8/lib/python3.8/urllib/request.py\u001b[0m in \u001b[0;36merror\u001b[0;34m(self, proto, *args)\u001b[0m\n\u001b[1;32m    568\u001b[0m             \u001b[0margs\u001b[0m \u001b[0;34m=\u001b[0m \u001b[0;34m(\u001b[0m\u001b[0mdict\u001b[0m\u001b[0;34m,\u001b[0m \u001b[0;34m'default'\u001b[0m\u001b[0;34m,\u001b[0m \u001b[0;34m'http_error_default'\u001b[0m\u001b[0;34m)\u001b[0m \u001b[0;34m+\u001b[0m \u001b[0morig_args\u001b[0m\u001b[0;34m\u001b[0m\u001b[0;34m\u001b[0m\u001b[0m\n\u001b[0;32m--> 569\u001b[0;31m             \u001b[0;32mreturn\u001b[0m \u001b[0mself\u001b[0m\u001b[0;34m.\u001b[0m\u001b[0m_call_chain\u001b[0m\u001b[0;34m(\u001b[0m\u001b[0;34m*\u001b[0m\u001b[0margs\u001b[0m\u001b[0;34m)\u001b[0m\u001b[0;34m\u001b[0m\u001b[0;34m\u001b[0m\u001b[0m\n\u001b[0m\u001b[1;32m    570\u001b[0m \u001b[0;34m\u001b[0m\u001b[0m\n",
      "\u001b[0;32m/Library/Developer/CommandLineTools/Library/Frameworks/Python3.framework/Versions/3.8/lib/python3.8/urllib/request.py\u001b[0m in \u001b[0;36m_call_chain\u001b[0;34m(self, chain, kind, meth_name, *args)\u001b[0m\n\u001b[1;32m    501\u001b[0m             \u001b[0mfunc\u001b[0m \u001b[0;34m=\u001b[0m \u001b[0mgetattr\u001b[0m\u001b[0;34m(\u001b[0m\u001b[0mhandler\u001b[0m\u001b[0;34m,\u001b[0m \u001b[0mmeth_name\u001b[0m\u001b[0;34m)\u001b[0m\u001b[0;34m\u001b[0m\u001b[0;34m\u001b[0m\u001b[0m\n\u001b[0;32m--> 502\u001b[0;31m             \u001b[0mresult\u001b[0m \u001b[0;34m=\u001b[0m \u001b[0mfunc\u001b[0m\u001b[0;34m(\u001b[0m\u001b[0;34m*\u001b[0m\u001b[0margs\u001b[0m\u001b[0;34m)\u001b[0m\u001b[0;34m\u001b[0m\u001b[0;34m\u001b[0m\u001b[0m\n\u001b[0m\u001b[1;32m    503\u001b[0m             \u001b[0;32mif\u001b[0m \u001b[0mresult\u001b[0m \u001b[0;32mis\u001b[0m \u001b[0;32mnot\u001b[0m \u001b[0;32mNone\u001b[0m\u001b[0;34m:\u001b[0m\u001b[0;34m\u001b[0m\u001b[0;34m\u001b[0m\u001b[0m\n",
      "\u001b[0;32m/Library/Developer/CommandLineTools/Library/Frameworks/Python3.framework/Versions/3.8/lib/python3.8/urllib/request.py\u001b[0m in \u001b[0;36mhttp_error_default\u001b[0;34m(self, req, fp, code, msg, hdrs)\u001b[0m\n\u001b[1;32m    648\u001b[0m     \u001b[0;32mdef\u001b[0m \u001b[0mhttp_error_default\u001b[0m\u001b[0;34m(\u001b[0m\u001b[0mself\u001b[0m\u001b[0;34m,\u001b[0m \u001b[0mreq\u001b[0m\u001b[0;34m,\u001b[0m \u001b[0mfp\u001b[0m\u001b[0;34m,\u001b[0m \u001b[0mcode\u001b[0m\u001b[0;34m,\u001b[0m \u001b[0mmsg\u001b[0m\u001b[0;34m,\u001b[0m \u001b[0mhdrs\u001b[0m\u001b[0;34m)\u001b[0m\u001b[0;34m:\u001b[0m\u001b[0;34m\u001b[0m\u001b[0;34m\u001b[0m\u001b[0m\n\u001b[0;32m--> 649\u001b[0;31m         \u001b[0;32mraise\u001b[0m \u001b[0mHTTPError\u001b[0m\u001b[0;34m(\u001b[0m\u001b[0mreq\u001b[0m\u001b[0;34m.\u001b[0m\u001b[0mfull_url\u001b[0m\u001b[0;34m,\u001b[0m \u001b[0mcode\u001b[0m\u001b[0;34m,\u001b[0m \u001b[0mmsg\u001b[0m\u001b[0;34m,\u001b[0m \u001b[0mhdrs\u001b[0m\u001b[0;34m,\u001b[0m \u001b[0mfp\u001b[0m\u001b[0;34m)\u001b[0m\u001b[0;34m\u001b[0m\u001b[0;34m\u001b[0m\u001b[0m\n\u001b[0m\u001b[1;32m    650\u001b[0m \u001b[0;34m\u001b[0m\u001b[0m\n",
      "\u001b[0;31mHTTPError\u001b[0m: HTTP Error 503: PUGREST.ServerBusy",
      "\nDuring handling of the above exception, another exception occurred:\n",
      "\u001b[0;31mPubChemHTTPError\u001b[0m                          Traceback (most recent call last)",
      "\u001b[0;32m/var/folders/n_/3wq0bvp978z5kq3y47njy7c00000gn/T/ipykernel_3452/3100062264.py\u001b[0m in \u001b[0;36m<module>\u001b[0;34m\u001b[0m\n\u001b[1;32m      1\u001b[0m \u001b[0mchem_compound\u001b[0m \u001b[0;34m=\u001b[0m \u001b[0;34m{\u001b[0m\u001b[0;34m}\u001b[0m\u001b[0;34m\u001b[0m\u001b[0;34m\u001b[0m\u001b[0m\n\u001b[1;32m      2\u001b[0m \u001b[0;32mfor\u001b[0m \u001b[0mi\u001b[0m\u001b[0;34m,\u001b[0m \u001b[0mchem\u001b[0m \u001b[0;32min\u001b[0m \u001b[0menumerate\u001b[0m\u001b[0;34m(\u001b[0m\u001b[0mchemName\u001b[0m\u001b[0;34m)\u001b[0m\u001b[0;34m:\u001b[0m\u001b[0;34m\u001b[0m\u001b[0;34m\u001b[0m\u001b[0m\n\u001b[0;32m----> 3\u001b[0;31m   \u001b[0mres\u001b[0m \u001b[0;34m=\u001b[0m \u001b[0mpcp\u001b[0m\u001b[0;34m.\u001b[0m\u001b[0mget_compounds\u001b[0m\u001b[0;34m(\u001b[0m\u001b[0mchem\u001b[0m\u001b[0;34m,\u001b[0m \u001b[0;34m'name'\u001b[0m\u001b[0;34m)\u001b[0m\u001b[0;34m\u001b[0m\u001b[0;34m\u001b[0m\u001b[0m\n\u001b[0m\u001b[1;32m      4\u001b[0m   \u001b[0;32mif\u001b[0m \u001b[0mlen\u001b[0m\u001b[0;34m(\u001b[0m\u001b[0mres\u001b[0m\u001b[0;34m)\u001b[0m\u001b[0;34m==\u001b[0m\u001b[0;36m1\u001b[0m\u001b[0;34m:\u001b[0m\u001b[0;34m\u001b[0m\u001b[0;34m\u001b[0m\u001b[0m\n\u001b[1;32m      5\u001b[0m     \u001b[0mchem_compound\u001b[0m\u001b[0;34m[\u001b[0m\u001b[0mchem\u001b[0m\u001b[0;34m]\u001b[0m \u001b[0;34m=\u001b[0m \u001b[0mres\u001b[0m\u001b[0;34m[\u001b[0m\u001b[0;36m0\u001b[0m\u001b[0;34m]\u001b[0m\u001b[0;34m\u001b[0m\u001b[0;34m\u001b[0m\u001b[0m\n",
      "\u001b[0;32m~/Library/Python/3.8/lib/python/site-packages/pubchempy.py\u001b[0m in \u001b[0;36mget_compounds\u001b[0;34m(identifier, namespace, searchtype, as_dataframe, **kwargs)\u001b[0m\n\u001b[1;32m    319\u001b[0m                          \u001b[0;34m:\u001b[0m\u001b[0;32mclass\u001b[0m\u001b[0;34m:\u001b[0m\u001b[0;31m`\u001b[0m\u001b[0;34m~\u001b[0m\u001b[0mpandas\u001b[0m\u001b[0;34m.\u001b[0m\u001b[0mDataFrame\u001b[0m\u001b[0;31m`\u001b[0m \u001b[0;32mand\u001b[0m \u001b[0;32mreturn\u001b[0m \u001b[0mthat\u001b[0m\u001b[0;34m.\u001b[0m\u001b[0;34m\u001b[0m\u001b[0;34m\u001b[0m\u001b[0m\n\u001b[1;32m    320\u001b[0m     \"\"\"\n\u001b[0;32m--> 321\u001b[0;31m     \u001b[0mresults\u001b[0m \u001b[0;34m=\u001b[0m \u001b[0mget_json\u001b[0m\u001b[0;34m(\u001b[0m\u001b[0midentifier\u001b[0m\u001b[0;34m,\u001b[0m \u001b[0mnamespace\u001b[0m\u001b[0;34m,\u001b[0m \u001b[0msearchtype\u001b[0m\u001b[0;34m=\u001b[0m\u001b[0msearchtype\u001b[0m\u001b[0;34m,\u001b[0m \u001b[0;34m**\u001b[0m\u001b[0mkwargs\u001b[0m\u001b[0;34m)\u001b[0m\u001b[0;34m\u001b[0m\u001b[0;34m\u001b[0m\u001b[0m\n\u001b[0m\u001b[1;32m    322\u001b[0m     \u001b[0mcompounds\u001b[0m \u001b[0;34m=\u001b[0m \u001b[0;34m[\u001b[0m\u001b[0mCompound\u001b[0m\u001b[0;34m(\u001b[0m\u001b[0mr\u001b[0m\u001b[0;34m)\u001b[0m \u001b[0;32mfor\u001b[0m \u001b[0mr\u001b[0m \u001b[0;32min\u001b[0m \u001b[0mresults\u001b[0m\u001b[0;34m[\u001b[0m\u001b[0;34m'PC_Compounds'\u001b[0m\u001b[0;34m]\u001b[0m\u001b[0;34m]\u001b[0m \u001b[0;32mif\u001b[0m \u001b[0mresults\u001b[0m \u001b[0;32melse\u001b[0m \u001b[0;34m[\u001b[0m\u001b[0;34m]\u001b[0m\u001b[0;34m\u001b[0m\u001b[0;34m\u001b[0m\u001b[0m\n\u001b[1;32m    323\u001b[0m     \u001b[0;32mif\u001b[0m \u001b[0mas_dataframe\u001b[0m\u001b[0;34m:\u001b[0m\u001b[0;34m\u001b[0m\u001b[0;34m\u001b[0m\u001b[0m\n",
      "\u001b[0;32m~/Library/Python/3.8/lib/python/site-packages/pubchempy.py\u001b[0m in \u001b[0;36mget_json\u001b[0;34m(identifier, namespace, domain, operation, searchtype, **kwargs)\u001b[0m\n\u001b[1;32m    297\u001b[0m     \u001b[0;34m\"\"\"Request wrapper that automatically parses JSON response and supresses NotFoundError.\"\"\"\u001b[0m\u001b[0;34m\u001b[0m\u001b[0;34m\u001b[0m\u001b[0m\n\u001b[1;32m    298\u001b[0m     \u001b[0;32mtry\u001b[0m\u001b[0;34m:\u001b[0m\u001b[0;34m\u001b[0m\u001b[0;34m\u001b[0m\u001b[0m\n\u001b[0;32m--> 299\u001b[0;31m         \u001b[0;32mreturn\u001b[0m \u001b[0mjson\u001b[0m\u001b[0;34m.\u001b[0m\u001b[0mloads\u001b[0m\u001b[0;34m(\u001b[0m\u001b[0mget\u001b[0m\u001b[0;34m(\u001b[0m\u001b[0midentifier\u001b[0m\u001b[0;34m,\u001b[0m \u001b[0mnamespace\u001b[0m\u001b[0;34m,\u001b[0m \u001b[0mdomain\u001b[0m\u001b[0;34m,\u001b[0m \u001b[0moperation\u001b[0m\u001b[0;34m,\u001b[0m \u001b[0;34m'JSON'\u001b[0m\u001b[0;34m,\u001b[0m \u001b[0msearchtype\u001b[0m\u001b[0;34m,\u001b[0m \u001b[0;34m**\u001b[0m\u001b[0mkwargs\u001b[0m\u001b[0;34m)\u001b[0m\u001b[0;34m.\u001b[0m\u001b[0mdecode\u001b[0m\u001b[0;34m(\u001b[0m\u001b[0;34m)\u001b[0m\u001b[0;34m)\u001b[0m\u001b[0;34m\u001b[0m\u001b[0;34m\u001b[0m\u001b[0m\n\u001b[0m\u001b[1;32m    300\u001b[0m     \u001b[0;32mexcept\u001b[0m \u001b[0mNotFoundError\u001b[0m \u001b[0;32mas\u001b[0m \u001b[0me\u001b[0m\u001b[0;34m:\u001b[0m\u001b[0;34m\u001b[0m\u001b[0;34m\u001b[0m\u001b[0m\n\u001b[1;32m    301\u001b[0m         \u001b[0mlog\u001b[0m\u001b[0;34m.\u001b[0m\u001b[0minfo\u001b[0m\u001b[0;34m(\u001b[0m\u001b[0me\u001b[0m\u001b[0;34m)\u001b[0m\u001b[0;34m\u001b[0m\u001b[0;34m\u001b[0m\u001b[0m\n",
      "\u001b[0;32m~/Library/Python/3.8/lib/python/site-packages/pubchempy.py\u001b[0m in \u001b[0;36mget\u001b[0;34m(identifier, namespace, domain, operation, output, searchtype, **kwargs)\u001b[0m\n\u001b[1;32m    290\u001b[0m                 \u001b[0mresponse\u001b[0m \u001b[0;34m=\u001b[0m \u001b[0mrequest\u001b[0m\u001b[0;34m(\u001b[0m\u001b[0midentifier\u001b[0m\u001b[0;34m,\u001b[0m \u001b[0mnamespace\u001b[0m\u001b[0;34m,\u001b[0m \u001b[0mdomain\u001b[0m\u001b[0;34m,\u001b[0m \u001b[0moperation\u001b[0m\u001b[0;34m,\u001b[0m \u001b[0moutput\u001b[0m\u001b[0;34m,\u001b[0m \u001b[0msearchtype\u001b[0m\u001b[0;34m,\u001b[0m \u001b[0;34m**\u001b[0m\u001b[0mkwargs\u001b[0m\u001b[0;34m)\u001b[0m\u001b[0;34m.\u001b[0m\u001b[0mread\u001b[0m\u001b[0;34m(\u001b[0m\u001b[0;34m)\u001b[0m\u001b[0;34m\u001b[0m\u001b[0;34m\u001b[0m\u001b[0m\n\u001b[1;32m    291\u001b[0m     \u001b[0;32melse\u001b[0m\u001b[0;34m:\u001b[0m\u001b[0;34m\u001b[0m\u001b[0;34m\u001b[0m\u001b[0m\n\u001b[0;32m--> 292\u001b[0;31m         \u001b[0mresponse\u001b[0m \u001b[0;34m=\u001b[0m \u001b[0mrequest\u001b[0m\u001b[0;34m(\u001b[0m\u001b[0midentifier\u001b[0m\u001b[0;34m,\u001b[0m \u001b[0mnamespace\u001b[0m\u001b[0;34m,\u001b[0m \u001b[0mdomain\u001b[0m\u001b[0;34m,\u001b[0m \u001b[0moperation\u001b[0m\u001b[0;34m,\u001b[0m \u001b[0moutput\u001b[0m\u001b[0;34m,\u001b[0m \u001b[0msearchtype\u001b[0m\u001b[0;34m,\u001b[0m \u001b[0;34m**\u001b[0m\u001b[0mkwargs\u001b[0m\u001b[0;34m)\u001b[0m\u001b[0;34m.\u001b[0m\u001b[0mread\u001b[0m\u001b[0;34m(\u001b[0m\u001b[0;34m)\u001b[0m\u001b[0;34m\u001b[0m\u001b[0;34m\u001b[0m\u001b[0m\n\u001b[0m\u001b[1;32m    293\u001b[0m     \u001b[0;32mreturn\u001b[0m \u001b[0mresponse\u001b[0m\u001b[0;34m\u001b[0m\u001b[0;34m\u001b[0m\u001b[0m\n\u001b[1;32m    294\u001b[0m \u001b[0;34m\u001b[0m\u001b[0m\n",
      "\u001b[0;32m~/Library/Python/3.8/lib/python/site-packages/pubchempy.py\u001b[0m in \u001b[0;36mrequest\u001b[0;34m(identifier, namespace, domain, operation, output, searchtype, **kwargs)\u001b[0m\n\u001b[1;32m    272\u001b[0m         \u001b[0;32mreturn\u001b[0m \u001b[0mresponse\u001b[0m\u001b[0;34m\u001b[0m\u001b[0;34m\u001b[0m\u001b[0m\n\u001b[1;32m    273\u001b[0m     \u001b[0;32mexcept\u001b[0m \u001b[0mHTTPError\u001b[0m \u001b[0;32mas\u001b[0m \u001b[0me\u001b[0m\u001b[0;34m:\u001b[0m\u001b[0;34m\u001b[0m\u001b[0;34m\u001b[0m\u001b[0m\n\u001b[0;32m--> 274\u001b[0;31m         \u001b[0;32mraise\u001b[0m \u001b[0mPubChemHTTPError\u001b[0m\u001b[0;34m(\u001b[0m\u001b[0me\u001b[0m\u001b[0;34m)\u001b[0m\u001b[0;34m\u001b[0m\u001b[0;34m\u001b[0m\u001b[0m\n\u001b[0m\u001b[1;32m    275\u001b[0m \u001b[0;34m\u001b[0m\u001b[0m\n\u001b[1;32m    276\u001b[0m \u001b[0;34m\u001b[0m\u001b[0m\n",
      "\u001b[0;31mPubChemHTTPError\u001b[0m: 'PUGREST.ServerBusy'"
     ]
    }
   ],
   "source": [
    "chem_compound = {}\n",
    "for i, chem in enumerate(chemName):\n",
    "  res = pcp.get_compounds(chem, 'name')\n",
    "  if len(res)==1:\n",
    "    chem_compound[chem] = res[0]"
   ]
  },
  {
   "cell_type": "code",
   "execution_count": 50,
   "id": "b6bd9777",
   "metadata": {},
   "outputs": [],
   "source": [
    "with open('saved_dictionary.pkl', 'wb') as f:\n",
    "    pickle.dump(chem_compound, f)"
   ]
  },
  {
   "cell_type": "code",
   "execution_count": 51,
   "id": "68087c9b",
   "metadata": {},
   "outputs": [],
   "source": [
    "with open('saved_dictionary.pkl', 'rb') as f:\n",
    "        drug_cid = pickle.load(f)"
   ]
  },
  {
   "cell_type": "code",
   "execution_count": 97,
   "id": "2ce85838",
   "metadata": {},
   "outputs": [],
   "source": [
    "#reference: https://github.com/mcs07/PubChemPy/blob/master/examples/Chemical%20fingerprints%20and%20similarity.ipynb\n",
    "def tanimoto(compound1, compound2):\n",
    "    fp1 = int(compound1.fingerprint, 16)\n",
    "    fp2 = int(compound2.fingerprint, 16)\n",
    "    fp1_count = bin(fp1).count('1')\n",
    "    fp2_count = bin(fp2).count('1')\n",
    "    both_count = bin(fp1 & fp2).count('1')\n",
    "    return float(both_count) / (fp1_count + fp2_count - both_count)"
   ]
  },
  {
   "cell_type": "code",
   "execution_count": 113,
   "id": "93600ace",
   "metadata": {},
   "outputs": [
    {
     "data": {
      "text/plain": [
       "0.4595744680851064"
      ]
     },
     "execution_count": 113,
     "metadata": {},
     "output_type": "execute_result"
    }
   ],
   "source": [
    "compound = list(chem_compound.values())\n",
    "tanimoto(compound[0],compound[1])"
   ]
  },
  {
   "cell_type": "code",
   "execution_count": 112,
   "id": "ab15a482",
   "metadata": {},
   "outputs": [
    {
     "data": {
      "text/plain": [
       "{'10,11-dihydro-10-hydroxycarbamazepine': Compound(114709),\n",
       " '10-propargyl-10-deazaaminopterin': Compound(148121),\n",
       " '1,10-diaminodecane': Compound(1317),\n",
       " '1-(1,3-benzodioxol-5-ylcarbonyl)piperidine': Compound(1370),\n",
       " '1,1-dimethylbutyl-1-deoxy-Delta(9)-THC': Compound(6918505),\n",
       " '11-keto-boswellic acid': Compound(23675050),\n",
       " '1-(2-(1-adamantyl)ethyl)-1-pentyl-3-(3-(4-pyridyl)propyl)urea': Compound(10158562),\n",
       " '1-(2-(3-(4-methoxyphenyl)propoxy)-4-methoxyphenylethyl)-1H-imidazole': Compound(104956),\n",
       " '1,2,3,4-tetrahydroisoquinoline': Compound(7046),\n",
       " '1-(2,3-dihydro-1,4-benzodioxin-5-yl)-4-((5-(4-fluorophenyl)-3-pyridinyl)methyl)piperazine': Compound(9887537),\n",
       " '1,25-dihydroxy-16-ene-vitamin D3': Compound(6439178),\n",
       " '1,25-dihydroxy-24-oxo-16-ene-vitamin D3': Compound(9954323),\n",
       " '1,25-dihydroxyergocalciferol': Compound(9547243),\n",
       " '1,25-dihydroxyvitamin D': Compound(5280453),\n",
       " \"1,2-bis(2-aminophenoxy)ethane N,N,N',N'-tetraacetic acid acetoxymethyl ester\": Compound(3034747),\n",
       " '1-(2-chloroethyl)-1-nitrosourea': Compound(75394),\n",
       " '1-(2-deoxy-beta-L-erythropentafuranosyl)-5-methyl-2,4(1H)-pyrimidinone': Compound(159354),\n",
       " '1,2-Dihydroxybenzene-3,5-Disulfonic Acid Disodium Salt': Compound(9001),\n",
       " '1,2-Dipalmitoylphosphatidylcholine': Compound(6138),\n",
       " '1,2-linoleoylphosphatidylcholine': Compound(6440944),\n",
       " '1-(2-methoxyphenyl)-4-(4-(2-phthalimido)butyl)piperazine': Compound(4431),\n",
       " '1-(2-trifluoromethylphenyl)imidazole': Compound(1359),\n",
       " '13,17,21-trimethyldocosa-12,16,20-trien-11-one': Compound(73023755),\n",
       " '1-(3,4-dihydroxyphenyl)-3-(2-methoxyphenyl)prop-2-en-1-one': Compound(135122017),\n",
       " '1,3,5,6-tetrahydroxyxanthone': Compound(5479774),\n",
       " '1,3-benzothiazol-2-yl(2-((2-(3-pyridinyl)ethyl)amino)-4-pyrimidinyl)acetonitrile': Compound(10109823),\n",
       " '1,3-butylene glycol': Compound(7896),\n",
       " '1-(3-chlorophenyl)biguanide': Compound(1354),\n",
       " '1-(3-chlorophenyl)piperazine': Compound(1355),\n",
       " '1,3-dimethylthiourea': Compound(2723631),\n",
       " '1,3-dipropyl-8-cyclopentylxanthine': Compound(1329),\n",
       " '13-hydroxylupanine-2-pyrrolecarbonic acid': Compound(165547),\n",
       " '1-(3-trifluoromethylphenyl)piperazine': Compound(4296),\n",
       " '1-(4-(benzothiazol-2-yloxy)benzyl)piperidine-4-carboxylic acid': Compound(11245596),\n",
       " '1,4-bis(2-(3,5-dichloropyridyloxy))benzene': Compound(5382),\n",
       " '1,4-cyclohexanediol': Compound(11162),\n",
       " '14-dehydroxy-3-glucodigitoxigenin': Compound(128107),\n",
       " \"1-(4'-hydroxy-2'-butenoxy)methyl-2-nitroimidazole\": Compound(6438892),\n",
       " '14-hydroxydocosahexaenoic acid': Compound(6439735),\n",
       " '14-methyl-8-oxacyclorphan': Compound(5490340),\n",
       " '1-((4-methylsulfonyl)phenyl)-3-trifluoromethyl-5-(4-fluorophenyl)pyrazole': Compound(115239),\n",
       " '1,4-naphthoquinone': Compound(8530),\n",
       " '1,4-phenylenebis(methylene)selenocyanate': Compound(5708),\n",
       " '1,5-anhydrofructose': Compound(126517),\n",
       " '1-((5-chloro-1H-indol-2-yl)carbonyl)-4-methylpiperazine': Compound(4908365),\n",
       " '15-crown-5': Compound(36336),\n",
       " '1,5-dihydroxyisoquinoline': Compound(1340),\n",
       " '1-(5-hydroxy-5-methylhexyl)-3-methylxanthine': Compound(115359),\n",
       " '1-(5-Isoquinolinesulfonyl)-2-Methylpiperazine': Compound(3542),\n",
       " '16,16-Dimethylprostaglandin E2': Compound(5283066),\n",
       " '1-(6-(2,4-dichlorophenyl)-3-pyridazinyl)-4-piperidinol': Compound(65836),\n",
       " '1-(6-((3-methoxyestra-1,3,5(10)-trien-17-yl)amino)hexyl)-1H-pyrrole-2,5-dione': Compound(104794),\n",
       " '17 alpha-Hydroxyprogesterone Caproate': Compound(169870),\n",
       " '17-(dimethylaminoethylamino)-17-demethoxygeldanamycin': Compound(5288674),\n",
       " '1,7-dimethylxanthine': Compound(4687),\n",
       " '17-hydroxy-4,7,10,13,15,19-docosahexaenoic acid': Compound(6439179),\n",
       " '17-hydroxyjolkinolide B': Compound(6712607),\n",
       " '17-monochloroacetylajmaline': Compound(76957773),\n",
       " '17-pentylsparteine': Compound(156838),\n",
       " '17-phenyltrinorprostaglandin E2': Compound(5283068),\n",
       " '18alpha-glycyrrhetinic acid': Compound(73398),\n",
       " \"1'-acetoxychavicol acetate\": Compound(119104),\n",
       " \"1'-acetoxyeugenol\": Compound(4484222),\n",
       " '1-amino-5-bromouracil': Compound(124491),\n",
       " '1-aminobenzotriazole': Compound(1367),\n",
       " '1-aminocyclopentane-1,2,4-tricarboxylic acid': Compound(21903938),\n",
       " '1-aminocyclopentane-1,3,4-tricarboxylic acid': Compound(6604820),\n",
       " '1-aminoindan-1,5-dicarboxylic acid': Compound(2071),\n",
       " '1-aminomethylphosphonic acid': Compound(14017),\n",
       " '1-benzylimidazole': Compound(77918),\n",
       " '1-benzylpiperazine': Compound(75994),\n",
       " '1-(beta-naphthylmethyl)-6,7-dihydroxy-1,2,3,4-tetra-hydroisoquinoline': Compound(24839745),\n",
       " '1-Butanol': Compound(263),\n",
       " '1-(carboxymethyl)-3,5-diphenyl-2-methylbenzene': Compound(10040599),\n",
       " '1-Deoxynojirimycin': Compound(29435),\n",
       " '1H-(1,2,4)oxadiazolo(4,3-a)quinoxalin-1-one': Compound(1456),\n",
       " '1-hexacosanol': Compound(68171),\n",
       " '1H-Indene-2-carboxylic acid, 1-(1,3-benzodioxol-5-yl)-3-(2- (carboxymethoxy)-4-methoxyphenyl)-2,3-dihydro-5-propoxy-, (1S,2R,3S)-': Compound(108002),\n",
       " '1-hydroxy-3-amino-2-pyrrolidone': Compound(1232),\n",
       " '1-methyl-1,2,3,4-tetrahydroisoquinoline': Compound(92214),\n",
       " '1-Methyl-3-isobutylxanthine': Compound(3758),\n",
       " '1-Methyl-4-phenyl-1,2,3,6-tetrahydropyridine': Compound(1388),\n",
       " '1-methylergotamine': Compound(65703),\n",
       " '1-methylpropyl-2-imidazolyl disulfide': Compound(219104),\n",
       " '1-methylspermidine': Compound(132108),\n",
       " \"1'-methylspiro(adamantane-2,3'-pyrrolidine)maleate\": Compound(6435992),\n",
       " '1-naphthylacetylspermine': Compound(129695),\n",
       " '1-O-hexyl-2,3,5-trimethylhydroquinone': Compound(119193),\n",
       " '1-phenylcyclohexylamine': Compound(31862),\n",
       " '1-(quinoxalin-6-ylcarbonyl)piperidine': Compound(148184),\n",
       " '((1S)-1-((((1S)-1-benzyl-3-cyclopropylamino-2,3-di-oxopropyl)amino)carbonyl)-3-methylbutyl)carbamic acid 5-methoxy-3-oxapentyl ester': Compound(6857712),\n",
       " \"(1'S, 2S)-4-amino-N-(1'-carbamoyl-2'-phenylethyl)-2-(4''-methyl-1''-naphthalenesulfonylamino)butanamide\": Compound(11442741),\n",
       " '20,21-epoxyresibufogenin-3-formate': Compound(101371692),\n",
       " '20682-S': Compound(5746299),\n",
       " '20-alpha-Dihydroprogesterone': Compound(8956),\n",
       " \"2-(1',2',3',4'-tetrahydroxybutyl)thiazolidine-4-carboxylic acid\": Compound(86505),\n",
       " '2-(1,3-dimethyl-2,6-dioxo-1,2,3,6-tetrahydro-7H-purin-7-yl)-N-(4-isopropylphenyl)acetamide': Compound(1150897),\n",
       " '2-(2-(1-benzylpiperidin-4-yl)ethyl)-2,3-dihydro-9-methoxy-1H-pyrrolo(3,4-b)quinolin-1-one hemifumarate': Compound(9876323),\n",
       " '2,2,3,3-tetramethylcyclopropane carboxamide': Compound(181152),\n",
       " '2-(2-(3-(4-chloro-3-(trifluoromethyl)phenyl)ureido)-4-(trifluoromethyl)phenoxy)-4,5-dichlorobenzenesulfonic acid': Compound(9852097),\n",
       " '2-(2,3-dicarboxycyclopropyl)glycine': Compound(115114),\n",
       " '2-(2-(4-(4-nitrobenzyloxy)phenyl)ethyl)isothiourea methanesulfonate': Compound(9823846),\n",
       " '2-(2,4-dimethylphenyl)indan-1,3-dione': Compound(151469),\n",
       " '2,2,6,6-tetramethylpiperidin-4-yl heptanoate': Compound(16079014),\n",
       " \"(2-(2',6'-dimethoxy)phenoxyethylamino)methylbenzo-1,4-dioxane\": Compound(5685),\n",
       " '2-(2,6-dioxopiperidin-3-yl)phthalimidine': Compound(91585),\n",
       " '2-(2-amino-3-methoxyphenyl)-4H-1-benzopyran-4-one': Compound(4713),\n",
       " '2-(2-aminoethyl)thiazole': Compound(87653),\n",
       " '2,2-bis(4-glycidyloxyphenyl)propane': Compound(2286),\n",
       " '2-(2-chloro-4-iodophenylamino)-N-cyclopropylmethoxy-3,4-difluorobenzamide': Compound(6918454),\n",
       " '2-((((2-chloroethyl)nitrosoamino)carbonyl)amino)propanamide': Compound(108142),\n",
       " \"2-(2'-cyclopentyl-2'-phenyl-2'-hydroxyethoxy)tropane\": Compound(133065),\n",
       " \"2,2'-dithiodiethanesulfonic acid\": Compound(65626),\n",
       " '2-(2-hydroxyethylsulfanyl)-3-methyl-1,4-naphthoquinone': Compound(2876),\n",
       " \"2,2'-(hydroxynitrosohydrazono)bis-ethanamine\": Compound(135402056),\n",
       " '2-((2-piperidin-1-ylethyl)thio)quinazolin-4(3H)-one': Compound(135520446),\n",
       " '2,3,4,5-Tetrahydro-7,8-dihydroxy-1-phenyl-1H-3-benzazepine': Compound(1242),\n",
       " \"2,3,5,4'-tetrahydroxystilbene 2-O-glucopyranoside\": Compound(6438627),\n",
       " \"2,3-bis(3'-hydroxybenzyl)butane-1,4-diol\": Compound(123725),\n",
       " '2,3-bis(4-hydroxyphenyl)-propionitrile': Compound(102614),\n",
       " \"2',3'-dialdehyde ATP\": Compound(5486828),\n",
       " '2,3-diaminophenazine': Compound(410099),\n",
       " \"2',3'-dideoxycytidine 5'-triphosphate\": Compound(119119),\n",
       " '2,3-dihydroxybenzoic acid': Compound(19),\n",
       " \"2',3-dimethyl-4-aminobiphenyl\": Compound(25948),\n",
       " '2,3-dioxo-6-nitro-7-sulfamoylbenzo(f)quinoxaline': Compound(3272524),\n",
       " '23-hydroxytormentic acid': Compound(490367),\n",
       " '2-(3-mercaptopropyl)pentanedioic acid': Compound(10198171),\n",
       " \"2',3'-O-(2,4,6-trinitro-cyclohexadienylidine)adenosine 5'-triphosphate\": Compound(24820759),\n",
       " '2-(3-trifluoromethylphenyl)histamine': Compound(5310982),\n",
       " '24,25-Dihydroxyvitamin D 3': Compound(6434253),\n",
       " \"2-(4-(2-carboxyethyl)phenethylamino)-5'-N-ethylcarboxamidoadenosine\": Compound(3086599),\n",
       " \"2,4,3',5'-tetramethoxystilbene\": Compound(5354004),\n",
       " \"2,4,5,2',4',5'-hexachlorobiphenyl\": Compound(37034),\n",
       " '2,4,6-trihydroxyacetophenone': Compound(68073),\n",
       " '2-(4-chloro-6-(2,3-dimethylphenylamino)pyrimidin-2-ylthio)octanoic acid': Compound(24816385),\n",
       " '2,4-diaminobutyric acid': Compound(470),\n",
       " '2,4-Dichlorophenoxyacetic Acid': Compound(1486),\n",
       " \"2',4'-dihydroxy-6'-methoxy-3',5'-dimethylchalcone\": Compound(10424762),\n",
       " '2,4-dihydroxy-N-(4-hydroxyphenyl)benzamide': Compound(23063932),\n",
       " '2-(4-hydroxy-3,5-dimethylphenyl)-5-methoxy-3-methylindole': Compound(128480),\n",
       " '2-(4-hydroxyphenyl)-3-methyl-1-(4-(2-piperidin-1-yl-ethoxy)-benzyl)-1H-indol-5-ol': Compound(6433099),\n",
       " '2-(4-morpholino)ethyl-1-phenylcyclohexane-1-carboxylate': Compound(126402),\n",
       " '2-(4-morpholinyl)-8-phenyl-4H-1-benzopyran-4-one': Compound(3973),\n",
       " '24-norursodeoxycholic acid': Compound(192254),\n",
       " '2-(4-(quinolin-2-yl-methoxy)phenyl)-2-cyclopentylacetic acid': Compound(123723),\n",
       " \"2',5'-dideoxyadenosine\": Compound(65166),\n",
       " '2,5-dihydroxy-1,4-dithiane-2,5-dicarboxylic acid': Compound(24830990),\n",
       " '2,5-dihydroxybenzoic acid': Compound(3469),\n",
       " '2,5-dimethoxy-4-bromoamphetamine': Compound(62065),\n",
       " '2,5-dimethyl-4-benzoquinone': Compound(8718),\n",
       " '2,5-dimethylcelecoxib': Compound(11545682),\n",
       " '2,5-hexanedione': Compound(8035),\n",
       " '25-hydroxycholesterol': Compound(65094),\n",
       " '25-hydroxyprotopanaxadiol': Compound(158501),\n",
       " '25-hydroxyvitamin D': Compound(5283731),\n",
       " \"2',5'-oligoadenylate\": Compound(107918),\n",
       " '2,6-Dichloroindophenol': Compound(13726),\n",
       " '2,6-di-tert-butyl-4-(3-hydroxy-2,2-dimethylpropyl)phenol': Compound(5024764),\n",
       " '2,6-dithiopurine': Compound(1268252),\n",
       " '2,7,8-trimethyl-2-(beta-carboxyethyl)-6-hydroxychroman': Compound(133098),\n",
       " '(2,8-dioxabicyclo(3.3.0)oct-6-yl)-N-(4-((3,4-methylenedioxyphenyl)sulfonyl-(2-methylpropyl)amino)-3-hydroxy-1-phenylbutan-2-yl) carbamate': Compound(156596534),\n",
       " '2-acetamidoethanethiol': Compound(14484),\n",
       " '2-(allylthio)pyrazine': Compound(3025899),\n",
       " '2-amino-1,9-dihydro-9-(3-hydroxy-4-(hydroxymethyl)cyclopentyl)-6H-purine-6-one': Compound(135659015),\n",
       " '2-amino-3,8-dimethylimidazo(4,5-f)quinoxaline': Compound(62275),\n",
       " '2-amino-4-(3,4-(methylenedioxy)benzylamino)-6-(3-methoxyphenyl)pyrimidine': Compound(11210285),\n",
       " '2-amino-4-methylenecyclopentane-1-carboxylic acid': Compound(216240),\n",
       " '2-amino-4-phosphonobutyric acid': Compound(2207),\n",
       " '2-amino-4-picoline': Compound(1533),\n",
       " '2-amino-5,6-dihydro-6-methyl-4H-1,3-thiazine': Compound(1534),\n",
       " \"2-amino-5-phosphonomethyl(1,1'-biphenyl)-3-propanoic acid\": Compound(159489),\n",
       " '2-amino-6-chloro-alpha-cyano-3-(ethoxycarbonyl)-4H-1-benzopyran-4-acetic acid ethyl ester': Compound(2810830),\n",
       " '2-aminophenol': Compound(5801),\n",
       " '2-Aminopurine': Compound(9955),\n",
       " \"2'-benzoyloxycinnamaldehyde\": Compound(10467367),\n",
       " '2-benzylidene-4-phenyl-1,3-diselenole': Compound(73075711),\n",
       " \"2-chloro-4'-methoxychalcone\": Compound(5354554),\n",
       " '2-chloro-5-nitrobenzanilide': Compound(644213),\n",
       " '2-Chloroadenosine': Compound(8974),\n",
       " \"2-chloro-N(6)-(3-iodobenzyl)adenosine-5'-N-methyluronamide\": Compound(3035850),\n",
       " '2-chloro-N(6)cyclopentyladenosine': Compound(123807),\n",
       " '2-cyano-3,12-dioxooleana-1,9(11)-dien-28-oic acid ethyl amide': Compound(44159258),\n",
       " '2-cyano-3-hydroxy-N-(4-(trifluoromethyl)phenyl)-2-hepten-6-ynamide': Compound(54686843),\n",
       " \"2'-deoxy-2'-fluoro-2'-C-methylcytidine\": Compound(6481236),\n",
       " '2-desamino-2-methylaminopterin': Compound(164085),\n",
       " '2-diethylaminoethyl diallylphenylacetate': Compound(197002)}"
      ]
     },
     "execution_count": 112,
     "metadata": {},
     "output_type": "execute_result"
    }
   ],
   "source": [
    "chem_compound"
   ]
  },
  {
   "cell_type": "code",
   "execution_count": null,
   "id": "330b4057",
   "metadata": {},
   "outputs": [],
   "source": []
  }
 ],
 "metadata": {
  "kernelspec": {
   "display_name": "Python 3 (ipykernel)",
   "language": "python",
   "name": "python3"
  },
  "language_info": {
   "codemirror_mode": {
    "name": "ipython",
    "version": 3
   },
   "file_extension": ".py",
   "mimetype": "text/x-python",
   "name": "python",
   "nbconvert_exporter": "python",
   "pygments_lexer": "ipython3",
   "version": "3.8.2"
  }
 },
 "nbformat": 4,
 "nbformat_minor": 5
}
